{
 "cells": [
  {
   "cell_type": "code",
   "execution_count": 1,
   "id": "88fc3a67-4530-4303-98f8-cb72b437d3db",
   "metadata": {},
   "outputs": [
    {
     "data": {
      "text/plain": [
       "2"
      ]
     },
     "execution_count": 1,
     "metadata": {},
     "output_type": "execute_result"
    }
   ],
   "source": [
    "1+1"
   ]
  },
  {
   "cell_type": "code",
   "execution_count": 7,
   "id": "94928fa0-63e1-41b1-b6b4-c71f24eca11b",
   "metadata": {},
   "outputs": [
    {
     "data": {
      "text/plain": [
       "144"
      ]
     },
     "execution_count": 7,
     "metadata": {},
     "output_type": "execute_result"
    }
   ],
   "source": [
    "12 ** 2"
   ]
  },
  {
   "cell_type": "markdown",
   "id": "abf74716-c98e-4a18-b27d-93a1b6abea0d",
   "metadata": {},
   "source": [
    "Exemplo de texto em **Markdown**"
   ]
  },
  {
   "cell_type": "markdown",
   "id": "a09c6452-c013-4705-af3d-8030fda7ccba",
   "metadata": {},
   "source": [
    "# Exemplo de títutlo\n",
    "Célula com título em *markdown*"
   ]
  }
 ],
 "metadata": {
  "kernelspec": {
   "display_name": "Python 3 (ipykernel)",
   "language": "python",
   "name": "python3"
  },
  "language_info": {
   "codemirror_mode": {
    "name": "ipython",
    "version": 3
   },
   "file_extension": ".py",
   "mimetype": "text/x-python",
   "name": "python",
   "nbconvert_exporter": "python",
   "pygments_lexer": "ipython3",
   "version": "3.12.7"
  }
 },
 "nbformat": 4,
 "nbformat_minor": 5
}
