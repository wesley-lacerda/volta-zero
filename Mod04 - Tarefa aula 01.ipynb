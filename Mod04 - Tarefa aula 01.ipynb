{
 "cells": [
  {
   "cell_type": "markdown",
   "metadata": {},
   "source": [
    "# Tarefa 01\n",
    "\n",
    "- Leia os enunciados com atenção\n",
    "- Saiba que pode haver mais de uma resposta correta\n",
    "- Insira novas células de código sempre que achar necessário\n",
    "- Em caso de dúvidas, procure os tutores\n",
    "- Divirta-se :)\n",
    "\n",
    "#### 1)  crie uma série do pandas a partir de uma lista com os dados abaixo:\n",
    "\n",
    "Em um estudo sobre alteração na tempreatura global, A NASA disponibiliza dados de diferenças de de temperatura média da superfície terrestre relativos às médias de temperatura entre 1951 e 1980. Os dados originais podem ser vistos no site da NASA/GISS, e estão dispostos a cada década na tabela abaixo.\n",
    "\n",
    "|ano|anomalia termica|\n",
    "|:-:|:----:|\n",
    "| 1900 | -0.08 |\n",
    "| 1920 | -0.27 |\n",
    "| 1940 | 0.12 |\n",
    "| 1960 | -0.03 |\n",
    "| 1980 | 0.26 |\n",
    "| 2000 | 0.40 |\n",
    "| 2020 | 1.02 |\n",
    "\n",
    "Crie uma séries do Pandas a partir de uma lista com esses dados."
   ]
  },
  {
   "cell_type": "code",
   "execution_count": 46,
   "metadata": {},
   "outputs": [
    {
     "data": {
      "text/plain": [
       "0   -0.08\n",
       "1   -0.27\n",
       "2    0.12\n",
       "3   -0.03\n",
       "4    0.26\n",
       "5    0.40\n",
       "6    1.02\n",
       "dtype: float64"
      ]
     },
     "execution_count": 46,
     "metadata": {},
     "output_type": "execute_result"
    }
   ],
   "source": [
    "import pandas as pd\n",
    "import numpy as np\n",
    "\n",
    "# Seu código aqui\n",
    "dados = [-0.08,-0.27,0.12,-0.03,0.26,0.40,1.02]\n",
    "alteracaodaTemperaturaGlobalSemIndex = pd.Series(dados)\n",
    "alteracaodaTemperaturaGlobalSemIndex"
   ]
  },
  {
   "cell_type": "markdown",
   "metadata": {},
   "source": [
    "#### 2) Coloque os anos nos índices conforme a tabela."
   ]
  },
  {
   "cell_type": "code",
   "execution_count": 38,
   "metadata": {},
   "outputs": [
    {
     "data": {
      "text/plain": [
       "1900   -0.08\n",
       "1920   -0.27\n",
       "1940    0.12\n",
       "1960   -0.03\n",
       "1980    0.26\n",
       "2000    0.40\n",
       "2000    1.02\n",
       "dtype: float64"
      ]
     },
     "execution_count": 38,
     "metadata": {},
     "output_type": "execute_result"
    }
   ],
   "source": [
    "\n",
    "# seu código aqui\n",
    "indice =['1900','1920','1940','1960','1980','2000','2000']\n",
    "dados = [-0.08,-0.27,0.12,-0.03,0.26,0.40,1.02]\n",
    "alteracaodaTemperaturaGlobal = pd.Series(data=dados, index=indice)\n",
    "alteracaodaTemperaturaGlobal"
   ]
  },
  {
   "cell_type": "markdown",
   "metadata": {},
   "source": [
    "#### 3) A partir do dicionário abaixo, crie uma séries do Pandas:"
   ]
  },
  {
   "cell_type": "code",
   "execution_count": 58,
   "metadata": {},
   "outputs": [
    {
     "data": {
      "text/plain": [
       "1900   -0.08\n",
       "1920   -0.27\n",
       "1940    0.12\n",
       "1960   -0.03\n",
       "1980    0.26\n",
       "2000    0.40\n",
       "2020    1.02\n",
       "dtype: float64"
      ]
     },
     "execution_count": 58,
     "metadata": {},
     "output_type": "execute_result"
    }
   ],
   "source": [
    "dic_temperaturas = {1900: -.08, 1920: -.27, 1940: .12, 1960: -.03, 1980: .26, 2000: .40, 2020: 1.02}\n",
    "\n",
    "# seu código aqui\n",
    "dic_temperaturas = {1900: -.08, 1920: -.27, 1940: .12, 1960: -.03, 1980: .26, 2000: .40, 2020: 1.02}\n",
    "temperaturasSeries = pd.Series(dic_temperaturas)\n",
    "temperaturasSeries"
   ]
  },
  {
   "cell_type": "markdown",
   "metadata": {},
   "source": [
    "#### 4) Transforme o ndarray abaixo em um dataframe. \n",
    "O numpy é capaz de gerar arrays n-dimensionais com números pseudo-aleatórios de acordo com uma variedade de distribuições, como no exemplo abaixo. Transforme esse nd-array em um DataFrame."
   ]
  },
  {
   "cell_type": "code",
   "execution_count": 84,
   "metadata": {},
   "outputs": [
    {
     "name": "stdout",
     "output_type": "stream",
     "text": [
      "       Column1     Column2     Column3\n",
      "0   100.368368  115.814078   90.732097\n",
      "1    86.829935   94.925360   95.437511\n",
      "2   114.983838  102.347105  110.261602\n",
      "3    87.903326   97.136636   96.812712\n",
      "4   117.278367   76.991017   90.833514\n",
      "5   104.530740  121.349538  100.606169\n",
      "6   115.036193  102.721745  113.501211\n",
      "7    99.120976   91.406883   93.196133\n",
      "8    91.003099   97.870326  100.910717\n",
      "9    89.010617   88.452248   81.399044\n",
      "10  100.507631   84.974129  108.291705\n",
      "11  121.666980   97.391752   96.775377\n",
      "12   88.052165   88.041735  102.526670\n",
      "13  114.461470   88.977904  109.149540\n",
      "14   99.721844  115.778952   93.736138\n",
      "15  126.444579   96.801069   90.221116\n",
      "16  100.510991   92.587381  101.199788\n",
      "17  108.726706   98.225896  109.968783\n",
      "18  109.818310  102.347033   96.160637\n",
      "19  109.264487   99.667173   90.387182\n"
     ]
    }
   ],
   "source": [
    "arr = np.random.normal(100, 10, (20,3))\n",
    "\n",
    "# seu código aqui\n",
    "df = pd.DataFrame(arr, columns=['Column1', 'Column2', 'Column3'])\n",
    "print(df)"
   ]
  },
  {
   "cell_type": "markdown",
   "metadata": {},
   "source": [
    "#### 5) Nomeie os índices das linhas com inteiros de 1 a 20, e as colunas com os nomes \"x1\", \"x2\", e \"x3\" respectivamente."
   ]
  },
  {
   "cell_type": "code",
   "execution_count": 92,
   "metadata": {},
   "outputs": [
    {
     "name": "stdout",
     "output_type": "stream",
     "text": [
      "            x1          x2          x3\n",
      "1   100.368368  115.814078   90.732097\n",
      "2    86.829935   94.925360   95.437511\n",
      "3   114.983838  102.347105  110.261602\n",
      "4    87.903326   97.136636   96.812712\n",
      "5   117.278367   76.991017   90.833514\n",
      "6   104.530740  121.349538  100.606169\n",
      "7   115.036193  102.721745  113.501211\n",
      "8    99.120976   91.406883   93.196133\n",
      "9    91.003099   97.870326  100.910717\n",
      "10   89.010617   88.452248   81.399044\n",
      "11  100.507631   84.974129  108.291705\n",
      "12  121.666980   97.391752   96.775377\n",
      "13   88.052165   88.041735  102.526670\n",
      "14  114.461470   88.977904  109.149540\n",
      "15   99.721844  115.778952   93.736138\n",
      "16  126.444579   96.801069   90.221116\n",
      "17  100.510991   92.587381  101.199788\n",
      "18  108.726706   98.225896  109.968783\n",
      "19  109.818310  102.347033   96.160637\n",
      "20  109.264487   99.667173   90.387182\n"
     ]
    }
   ],
   "source": [
    "#seu código aqui\n",
    "df.index = range(1,21)\n",
    "df.columns = ['x1', 'x2', 'x3']\n",
    "print(df)"
   ]
  },
  {
   "cell_type": "markdown",
   "metadata": {},
   "source": [
    "#### 6) No DataFrame do exercício 5, crie uma nova coluna como sendo a média das três colunas, e dê a ela o nome de \"media\" (não recomendo colocar acentos em nomes de variáveis)."
   ]
  },
  {
   "cell_type": "code",
   "execution_count": 98,
   "metadata": {},
   "outputs": [
    {
     "name": "stdout",
     "output_type": "stream",
     "text": [
      "            x1          x2          x3       Media\n",
      "1   100.368368  115.814078   90.732097  102.304847\n",
      "2    86.829935   94.925360   95.437511   92.397602\n",
      "3   114.983838  102.347105  110.261602  109.197515\n",
      "4    87.903326   97.136636   96.812712   93.950891\n",
      "5   117.278367   76.991017   90.833514   95.034299\n",
      "6   104.530740  121.349538  100.606169  108.828816\n",
      "7   115.036193  102.721745  113.501211  110.419717\n",
      "8    99.120976   91.406883   93.196133   94.574664\n",
      "9    91.003099   97.870326  100.910717   96.594714\n",
      "10   89.010617   88.452248   81.399044   86.287303\n",
      "11  100.507631   84.974129  108.291705   97.924488\n",
      "12  121.666980   97.391752   96.775377  105.278036\n",
      "13   88.052165   88.041735  102.526670   92.873523\n",
      "14  114.461470   88.977904  109.149540  104.196305\n",
      "15   99.721844  115.778952   93.736138  103.078978\n",
      "16  126.444579   96.801069   90.221116  104.488921\n",
      "17  100.510991   92.587381  101.199788   98.099387\n",
      "18  108.726706   98.225896  109.968783  105.640462\n",
      "19  109.818310  102.347033   96.160637  102.775327\n",
      "20  109.264487   99.667173   90.387182   99.772947\n"
     ]
    }
   ],
   "source": [
    "# seu código aqui\n",
    "df['Media'] = (df['x1'] + df['x2'] + df['x3']) / 3\n",
    "print(df)"
   ]
  },
  {
   "cell_type": "markdown",
   "metadata": {},
   "source": [
    "#### 7) No DataFrame do exercício 6, crie uma nova coluna chamada \"log_med\", contendo o logaritmo natural da média calculada no exercício 6 <br>"
   ]
  },
  {
   "cell_type": "code",
   "execution_count": 104,
   "metadata": {},
   "outputs": [
    {
     "name": "stdout",
     "output_type": "stream",
     "text": [
      "            x1          x2          x3       Media   log_med\n",
      "1   100.368368  115.814078   90.732097  102.304847  4.627957\n",
      "2    86.829935   94.925360   95.437511   92.397602  4.526101\n",
      "3   114.983838  102.347105  110.261602  109.197515  4.693158\n",
      "4    87.903326   97.136636   96.812712   93.950891  4.542772\n",
      "5   117.278367   76.991017   90.833514   95.034299  4.554238\n",
      "6   104.530740  121.349538  100.606169  108.828816  4.689776\n",
      "7   115.036193  102.721745  113.501211  110.419717  4.704289\n",
      "8    99.120976   91.406883   93.196133   94.574664  4.549390\n",
      "9    91.003099   97.870326  100.910717   96.594714  4.570524\n",
      "10   89.010617   88.452248   81.399044   86.287303  4.457682\n",
      "11  100.507631   84.974129  108.291705   97.924488  4.584197\n",
      "12  121.666980   97.391752   96.775377  105.278036  4.656605\n",
      "13   88.052165   88.041735  102.526670   92.873523  4.531239\n",
      "14  114.461470   88.977904  109.149540  104.196305  4.646277\n",
      "15   99.721844  115.778952   93.736138  103.078978  4.635495\n",
      "16  126.444579   96.801069   90.221116  104.488921  4.649081\n",
      "17  100.510991   92.587381  101.199788   98.099387  4.585981\n",
      "18  108.726706   98.225896  109.968783  105.640462  4.660041\n",
      "19  109.818310  102.347033   96.160637  102.775327  4.632545\n",
      "20  109.264487   99.667173   90.387182   99.772947  4.602897\n"
     ]
    }
   ],
   "source": [
    "# seu código aqui\n",
    "df['log_med'] = np.log(df['Media'])\n",
    "print(df)"
   ]
  }
 ],
 "metadata": {
  "kernelspec": {
   "display_name": "Python [conda env:base] *",
   "language": "python",
   "name": "conda-base-py"
  },
  "language_info": {
   "codemirror_mode": {
    "name": "ipython",
    "version": 3
   },
   "file_extension": ".py",
   "mimetype": "text/x-python",
   "name": "python",
   "nbconvert_exporter": "python",
   "pygments_lexer": "ipython3",
   "version": "3.12.7"
  }
 },
 "nbformat": 4,
 "nbformat_minor": 4
}
